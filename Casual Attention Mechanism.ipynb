{
 "cells": [
  {
   "cell_type": "code",
   "execution_count": 1,
   "id": "1ec8c165-9891-4a2f-9fed-f37157c0e960",
   "metadata": {},
   "outputs": [
    {
     "ename": "NameError",
     "evalue": "name 'torch' is not defined",
     "output_type": "error",
     "traceback": [
      "\u001b[1;31m---------------------------------------------------------------------------\u001b[0m",
      "\u001b[1;31mNameError\u001b[0m                                 Traceback (most recent call last)",
      "Cell \u001b[1;32mIn[1], line 1\u001b[0m\n\u001b[1;32m----> 1\u001b[0m inputs \u001b[38;5;241m=\u001b[39m torch\u001b[38;5;241m.\u001b[39mtensor(\n\u001b[0;32m      2\u001b[0m   [[\u001b[38;5;241m0.43\u001b[39m, \u001b[38;5;241m0.15\u001b[39m, \u001b[38;5;241m0.89\u001b[39m], \u001b[38;5;66;03m# Your     (x^1)\u001b[39;00m\n\u001b[0;32m      3\u001b[0m    [\u001b[38;5;241m0.55\u001b[39m, \u001b[38;5;241m0.87\u001b[39m, \u001b[38;5;241m0.66\u001b[39m], \u001b[38;5;66;03m# journey  (x^2)\u001b[39;00m\n\u001b[0;32m      4\u001b[0m    [\u001b[38;5;241m0.57\u001b[39m, \u001b[38;5;241m0.85\u001b[39m, \u001b[38;5;241m0.64\u001b[39m], \u001b[38;5;66;03m# starts   (x^3)\u001b[39;00m\n\u001b[0;32m      5\u001b[0m    [\u001b[38;5;241m0.22\u001b[39m, \u001b[38;5;241m0.58\u001b[39m, \u001b[38;5;241m0.33\u001b[39m], \u001b[38;5;66;03m# with     (x^4)\u001b[39;00m\n\u001b[0;32m      6\u001b[0m    [\u001b[38;5;241m0.77\u001b[39m, \u001b[38;5;241m0.25\u001b[39m, \u001b[38;5;241m0.10\u001b[39m], \u001b[38;5;66;03m# one      (x^5)\u001b[39;00m\n\u001b[0;32m      7\u001b[0m    [\u001b[38;5;241m0.05\u001b[39m, \u001b[38;5;241m0.80\u001b[39m, \u001b[38;5;241m0.55\u001b[39m]] \u001b[38;5;66;03m# step     (x^6)\u001b[39;00m\n\u001b[0;32m      8\u001b[0m )\n",
      "\u001b[1;31mNameError\u001b[0m: name 'torch' is not defined"
     ]
    }
   ],
   "source": [
    "inputs = torch.tensor(\n",
    "  [[0.43, 0.15, 0.89], # Your     (x^1)\n",
    "   [0.55, 0.87, 0.66], # journey  (x^2)\n",
    "   [0.57, 0.85, 0.64], # starts   (x^3)\n",
    "   [0.22, 0.58, 0.33], # with     (x^4)\n",
    "   [0.77, 0.25, 0.10], # one      (x^5)\n",
    "   [0.05, 0.80, 0.55]] # step     (x^6)\n",
    ")"
   ]
  },
  {
   "cell_type": "code",
   "execution_count": null,
   "id": "39051fbb-198a-41a6-8d00-b7487f29223a",
   "metadata": {},
   "outputs": [],
   "source": []
  }
 ],
 "metadata": {
  "kernelspec": {
   "display_name": "Python [conda env:base] *",
   "language": "python",
   "name": "conda-base-py"
  },
  "language_info": {
   "codemirror_mode": {
    "name": "ipython",
    "version": 3
   },
   "file_extension": ".py",
   "mimetype": "text/x-python",
   "name": "python",
   "nbconvert_exporter": "python",
   "pygments_lexer": "ipython3",
   "version": "3.12.7"
  }
 },
 "nbformat": 4,
 "nbformat_minor": 5
}
